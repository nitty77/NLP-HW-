{
 "cells": [
  {
   "cell_type": "code",
   "execution_count": null,
   "id": "c75e24dc-e30d-43d2-8f38-eecb88c97ef2",
   "metadata": {},
   "outputs": [],
   "source": [
    "# Initial imports\n",
    "import os\n",
    "import pandas as pd\n",
    "from dotenv import load_dotenv\n",
    "import nltk as nltk\n",
    "nltk.download('vader_lexicon')\n",
    "from nltk.sentiment.vader import SentimentIntensityAnalyzer\n",
    "analyzer = SentimentIntensityAnalyzer()\n",
    "\n",
    "%matplotlib inline"
   ]
  },
  {
   "cell_type": "code",
   "execution_count": null,
   "id": "97972a4c-5a61-45be-be84-1e9ccb5af678",
   "metadata": {},
   "outputs": [],
   "source": [
    "from newsapi import NewsApiClient\n",
    "api_key = os.getenv(\"a26e5ef5b474441493c2a38e24cc2a83\")"
   ]
  },
  {
   "cell_type": "code",
   "execution_count": null,
   "id": "4aa6858b-4aa2-42a8-8293-b8445b565186",
   "metadata": {},
   "outputs": [],
   "source": [
    "# Create a newsapi client\n",
    "newsapi = NewsApiClient(api_key=api_key)"
   ]
  },
  {
   "cell_type": "code",
   "execution_count": null,
   "id": "d0019029-d050-47cf-a589-a328ac75f3e9",
   "metadata": {},
   "outputs": [],
   "source": [
    "# Fetch all the news about Bitcoin\n",
    "BTC_headlines = newsapi.get_everything(q=\"Bitcoin\", language=\"en\")"
   ]
  },
  {
   "cell_type": "code",
   "execution_count": null,
   "id": "5dad1128-52f1-4852-a89b-a05509232482",
   "metadata": {},
   "outputs": [],
   "source": [
    "# Fetching the Ethereum news articles\n",
    "ETH_headlines = newsapi.get_everything(q=\"ethereum\", language=\"en\")"
   ]
  },
  {
   "cell_type": "code",
   "execution_count": null,
   "id": "ff932861-ac6d-4075-8485-a40d32070e66",
   "metadata": {},
   "outputs": [],
   "source": [
    "# Transforming the response dictionary to a DataFrame\n",
    "BTC_df = pd.DataFrame.from_dict(Bitcoin_headlines[\"articles\"])\n",
    "\n",
    "BTC_df.head()"
   ]
  },
  {
   "cell_type": "code",
   "execution_count": null,
   "id": "27047ac4-7ffa-4fe8-ba7a-13877cfd199a",
   "metadata": {},
   "outputs": [],
   "source": [
    "BTC_sentiments = []\n",
    "\n",
    "for article in BTC_headlines[\"articles\"]:\n",
    "    try:\n",
    "        text = article[\"content\"]\n",
    "        date = article[\"publishedAt\"][:10]\n",
    "        sentiment = analyzer.polarity_scores(text)\n",
    "        compound = sentiment[\"compound\"]\n",
    "        pos = sentiment[\"pos\"]\n",
    "        neu = sentiment[\"neu\"]\n",
    "        neg = sentiment[\"neg\"]\n",
    "        \n",
    "        BTC_sentiments.append({\n",
    "            \"text\": text,\n",
    "            \"date\": date,\n",
    "            \"compound\": compound,\n",
    "            \"positive\": pos,\n",
    "            \"negative\": neg,\n",
    "            \"neutral\": neu\n",
    "            \n",
    "        })\n",
    "        \n",
    "    except AttributeError:\n",
    "        pass\n",
    "    \n",
    "BTC_df2 = pd.DataFrame(Bitcoin_sentiments)\n",
    "cols = [\"date\", \"text\", \"compound\", \"positive\", \"negative\", \"neutral\"]\n",
    "BTC_df2 = btc_df[cols]\n",
    "\n",
    "BTC_df2.head()"
   ]
  },
  {
   "cell_type": "code",
   "execution_count": null,
   "id": "75b97d95-75d8-4223-b742-c730d64704f7",
   "metadata": {},
   "outputs": [],
   "source": [
    "Etherum_sentiments = []\n",
    "\n",
    "for article in ETH_headlines[\"articles\"]:\n",
    "    try:\n",
    "        text = article[\"content\"]\n",
    "        date = article[\"publishedAt\"][:10]\n",
    "        sentiment = analyzer.polarity_scores(text)\n",
    "        compound = sentiment[\"compound\"]\n",
    "        pos = sentiment[\"pos\"]\n",
    "        neu = sentiment[\"neu\"]\n",
    "        neg = sentiment[\"neg\"]\n",
    "        \n",
    "        ETH_sentiments.append({\n",
    "            \"text\": text,\n",
    "            \"date\": date,\n",
    "            \"compound\": compound,\n",
    "            \"positive\": pos,\n",
    "            \"negative\": neg,\n",
    "            \"neutral\": neu\n",
    "            \n",
    "        })\n",
    "        \n",
    "    except AttributeError:\n",
    "        pass\n",
    "    \n",
    "ETH_df2 = pd.DataFrame(eth_sentiments)\n",
    "cols = [\"date\", \"text\", \"compound\", \"positive\", \"negative\", \"neutral\"]\n",
    "ETH_df2 = ETH_df2[cols]\n",
    "\n",
    "ETH_df2.head()"
   ]
  },
  {
   "cell_type": "code",
   "execution_count": null,
   "id": "f8c26d58-a558-4dd8-a51e-989ab3cbbb7d",
   "metadata": {},
   "outputs": [],
   "source": [
    "# Describing the Bitcoin Sentiment\n",
    "BTC_df2.describe()"
   ]
  },
  {
   "cell_type": "code",
   "execution_count": null,
   "id": "ba5ee60a-0756-4347-8be0-bd48cd119e75",
   "metadata": {},
   "outputs": [],
   "source": [
    "# Describing the Ethereum Sentiment\n",
    "ETH_df2.describe()"
   ]
  },
  {
   "cell_type": "code",
   "execution_count": null,
   "id": "493c471c-d77d-400f-bb2d-837205ec6e24",
   "metadata": {},
   "outputs": [],
   "source": [
    "from nltk.tokenize import word_tokenize, sent_tokenize\n",
    "from nltk.corpus import stopwords\n",
    "from nltk.stem import WordNetLemmatizer, PorterStemmer\n",
    "from string import punctuation\n",
    "import re"
   ]
  },
  {
   "cell_type": "code",
   "execution_count": null,
   "id": "ed0b886b-ddfc-45f8-8f45-aaabd898354e",
   "metadata": {},
   "outputs": [],
   "source": [
    "# Instantiate the lemmatizer\n",
    "lemmatizer = WordNetLemmatizer()\n",
    "\n",
    "# Create a list of stopwords\n",
    "sw = set(stopwords.words('english'))"
   ]
  },
  {
   "cell_type": "code",
   "execution_count": null,
   "id": "02e5b2f3-06b8-4228-ad69-bbd54418215a",
   "metadata": {},
   "outputs": [],
   "source": [
    "# Complete the tokenizer function\n",
    "def tokenizer(text):\n",
    "    \"\"\"Tokenizes text.\"\"\"\n",
    "    # Remove the stop words\n",
    "    sw = set(stopwords.words('english'))\n",
    "    # Remove the punctuation from text\n",
    "    regex = re.compile(\"[^a-zA-Z ]\")\n",
    "    re_clean = regex.sub('', text)\n",
    "    # Create a tokenized list of the words\n",
    "    words = word_tokenize(re_clean)\n",
    "    # Lemmatize words into root words\n",
    "    lem = [lemmatizer.lemmatize(word) for word in words]\n",
    "    # Convert the words to lowercase\n",
    "    output = [word.lower() for word in words if word.lower() not in sw]\n",
    "    # Convert the words to lowercase\n",
    "    output = [word.lower() for word in words if word.lower() not in sw]\n",
    "    \n",
    "    \n",
    "    return output"
   ]
  },
  {
   "cell_type": "code",
   "execution_count": null,
   "id": "a171c2f7-3791-4335-b308-0462b8e90786",
   "metadata": {},
   "outputs": [],
   "source": [
    "# Create a new tokens column for Bitcoin\n",
    "BTC_tokens = []\n",
    "\n",
    "[BTC_tokens.append(tokenizer(text)) for text in BTC_df2.text]   \n",
    "BTC_df2['tokens'] = BTC_tokens\n",
    "BTC_df2.head()"
   ]
  },
  {
   "cell_type": "code",
   "execution_count": null,
   "id": "5d64ba0c-f6ae-4d43-a81a-31241216ecb1",
   "metadata": {},
   "outputs": [],
   "source": [
    "# Create a new tokens column for Ethereum\n",
    "ETH_tokens = []\n",
    "\n",
    "[ETH_tokens.append(tokenizer(text)) for text in ETH_df2.text]   \n",
    "ETH_df2['tokens'] = ETH_tokens\n",
    "ETH_df2.head()"
   ]
  },
  {
   "cell_type": "code",
   "execution_count": null,
   "id": "eb219d37-627c-45d3-8e8f-678a663bc4a0",
   "metadata": {},
   "outputs": [],
   "source": [
    "from collections import Counter\n",
    "from nltk import ngrams"
   ]
  },
  {
   "cell_type": "code",
   "execution_count": null,
   "id": "924cab76-2974-4cc8-8b83-8b212b3d5bad",
   "metadata": {},
   "outputs": [],
   "source": [
    "# Generate the Bitcoin N-grams where N=2\n",
    "BTC_ngrams = ngrams(BTC_tokenized, n=2)"
   ]
  },
  {
   "cell_type": "code",
   "execution_count": null,
   "id": "285cb16d-4443-4dbe-8fa2-08161455fb51",
   "metadata": {},
   "outputs": [],
   "source": [
    "# Generate the Ethereum N-grams where N=2\n",
    "ETH_ngrams = ngrams(ETH_tokenized, n=2)"
   ]
  },
  {
   "cell_type": "code",
   "execution_count": null,
   "id": "51799994-7bca-4314-9d56-abda79c92858",
   "metadata": {},
   "outputs": [],
   "source": [
    "# Function token_count generates the top 10 words for a given coin\n",
    "def token_count(tokens, N=3):\n",
    "    \"\"\"Returns the top N tokens from the frequency count\"\"\"\n",
    "    return Counter(tokens).most_common(N)"
   ]
  },
  {
   "cell_type": "code",
   "execution_count": null,
   "id": "b537ecf0-2c03-4201-bc4f-02c006c6b17c",
   "metadata": {},
   "outputs": [],
   "source": [
    "# Use token_count to get the top 10 words for Bitcoin\n",
    "BTC_top_10 = token_count(BTC_ngrams, N=10)"
   ]
  },
  {
   "cell_type": "code",
   "execution_count": null,
   "id": "71b5ff27-c1e6-4ad6-999d-ca7d94494e75",
   "metadata": {},
   "outputs": [],
   "source": [
    "# Use token_count to get the top 10 words for Ethereum\n",
    "ETH_top_10 = token_count(ETH_ngrams, N=10)"
   ]
  },
  {
   "cell_type": "code",
   "execution_count": null,
   "id": "97fe1eee-8f86-4d87-9999-c5db845cc991",
   "metadata": {},
   "outputs": [],
   "source": [
    "from wordcloud import WordCloud\n",
    "import matplotlib.pyplot as plt\n",
    "plt.style.use('seaborn-whitegrid')\n",
    "import matplotlib as mpl\n",
    "mpl.rcParams['figure.figsize'] = [20.0, 10.0]"
   ]
  },
  {
   "cell_type": "code",
   "execution_count": null,
   "id": "7e33eff2-38b9-4d92-8cb4-0358a61fe3b2",
   "metadata": {},
   "outputs": [],
   "source": [
    "# Generate the Bitcoin word cloud\n",
    "BTC_wc = WordCloud().generate(str(tokenizer(str(BTC_df2['tokens']))))\n",
    "plt.imshow(btc_wc)"
   ]
  },
  {
   "cell_type": "code",
   "execution_count": null,
   "id": "9bfb035c-ddc0-41d5-9dde-a437fc7390c9",
   "metadata": {},
   "outputs": [],
   "source": [
    "# Generate the Ethereum word cloud\n",
    "ETH_wc = WordCloud().generate(str(tokenizer(str(ETH_df2['tokens']))))\n",
    "plt.imshow(ETH_wc)"
   ]
  },
  {
   "cell_type": "code",
   "execution_count": null,
   "id": "f68db1f9-1839-43bd-bb04-6b7f6a066535",
   "metadata": {},
   "outputs": [],
   "source": [
    "import spacy\n",
    "from spacy import displacy"
   ]
  },
  {
   "cell_type": "code",
   "execution_count": null,
   "id": "080cc200-1af8-4fdf-9562-d8ed2a19547b",
   "metadata": {},
   "outputs": [],
   "source": [
    "# Download the language model for SpaCy\n",
    "# !python -m spacy download en_core_web_sm"
   ]
  },
  {
   "cell_type": "code",
   "execution_count": null,
   "id": "17aa58d0-0544-416a-94a0-aead6cf4b988",
   "metadata": {},
   "outputs": [],
   "source": [
    "# Load the spaCy model\n",
    "nlp = spacy.load('en_core_web_sm')"
   ]
  },
  {
   "cell_type": "code",
   "execution_count": null,
   "id": "81b5584e-c835-4437-b1e6-b62bf63ef9ee",
   "metadata": {},
   "outputs": [],
   "source": [
    "# Concatenate all of the Bitcoin text together\n",
    "BTC_text = \"\"\n",
    "for i in range(0, len(BTC_df2)):\n",
    "    BTC_text += str(BTC_df2.text[i])"
   ]
  },
  {
   "cell_type": "code",
   "execution_count": null,
   "id": "a6e83e02-704e-4738-a51d-e52e7100aec2",
   "metadata": {},
   "outputs": [],
   "source": [
    "# Run the NER processor on all of the text\n",
    "BTC_ner_processor = nlp(BTC_text)\n",
    "\n",
    "# Add a title to the document\n",
    "BTC_ner_processor.user_data[\"title\"] = \" Nitty Bitcoin NER\""
   ]
  },
  {
   "cell_type": "code",
   "execution_count": null,
   "id": "8466d184-6173-4c1c-b251-2aa2edf9e2e3",
   "metadata": {},
   "outputs": [],
   "source": [
    "# Render the visualization\n",
    "displacy.render(BTC_ner_processor, style = 'ent')"
   ]
  },
  {
   "cell_type": "code",
   "execution_count": null,
   "id": "0f9f6f87-9862-40e6-a6c2-1c00ce45d376",
   "metadata": {},
   "outputs": [],
   "source": [
    "# List all Entities\n",
    "BTC_entities = [ent.text for ent in BTC_ner_processor.ents]"
   ]
  },
  {
   "cell_type": "code",
   "execution_count": null,
   "id": "b9e6fb3a-b431-4ce8-82dd-8fc496489f16",
   "metadata": {},
   "outputs": [],
   "source": [
    "# Concatenate all of the Ethereum text together\n",
    "ETH_text = \"\"\n",
    "for i in range(0, len(ETH_df2)):\n",
    "    ETH_text += str(ETH_df2.text[i])"
   ]
  },
  {
   "cell_type": "code",
   "execution_count": null,
   "id": "f2eee6d0-7b0c-4e8b-8b11-32f11b8f3514",
   "metadata": {},
   "outputs": [],
   "source": [
    "# Run the NER processor on all of the text\n",
    "ETH_ner_processor = nlp(ETH_text)\n",
    "\n",
    "# Add a title to the document\n",
    "ETH_ner_processor.user_data[\"title\"] = \"Nitty Ethereum NER\""
   ]
  },
  {
   "cell_type": "code",
   "execution_count": null,
   "id": "8915e0f6-2606-4b7c-bd16-266846c0f43c",
   "metadata": {},
   "outputs": [],
   "source": [
    "# Render the visualization\n",
    "displacy.render(ETH_ner_processor, style = 'ent')"
   ]
  },
  {
   "cell_type": "code",
   "execution_count": null,
   "id": "b07e7917-1d49-48da-8ed3-d74d4b71491e",
   "metadata": {},
   "outputs": [],
   "source": [
    "# List all Entities\n",
    "ETH_entities = [ent.text for ent in ETH_ner_processor.ents]"
   ]
  },
  {
   "cell_type": "code",
   "execution_count": null,
   "id": "044c5695-ef6a-4741-b52a-de1dee9ae193",
   "metadata": {},
   "outputs": [],
   "source": []
  },
  {
   "cell_type": "code",
   "execution_count": null,
   "id": "7b23c08b-50a4-4342-b214-afae8e2735b0",
   "metadata": {},
   "outputs": [],
   "source": []
  }
 ],
 "metadata": {
  "kernelspec": {
   "display_name": "Python 3 (ipykernel)",
   "language": "python",
   "name": "python3"
  },
  "language_info": {
   "codemirror_mode": {
    "name": "ipython",
    "version": 3
   },
   "file_extension": ".py",
   "mimetype": "text/x-python",
   "name": "python",
   "nbconvert_exporter": "python",
   "pygments_lexer": "ipython3",
   "version": "3.9.7"
  }
 },
 "nbformat": 4,
 "nbformat_minor": 5
}
